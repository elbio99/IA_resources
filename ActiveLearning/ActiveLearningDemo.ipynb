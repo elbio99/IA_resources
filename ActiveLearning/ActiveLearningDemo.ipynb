{
 "cells": [
  {
   "cell_type": "markdown",
   "metadata": {},
   "source": [
    "### Demo Active Learning"
   ]
  },
  {
   "cell_type": "code",
   "execution_count": 1,
   "metadata": {},
   "outputs": [],
   "source": [
    "#!pip install sklearn modAL"
   ]
  },
  {
   "cell_type": "code",
   "execution_count": 1,
   "metadata": {},
   "outputs": [],
   "source": [
    "import pandas as pd\n",
    "import numpy as np\n",
    "import matplotlib.pyplot as plt \n",
    "\n",
    "from sklearn.datasets import load_iris\n",
    "from sklearn.ensemble import RandomForestClassifier\n",
    "\n",
    "from modAL.models import ActiveLearner\n",
    "from modAL.uncertainty import uncertainty_sampling"
   ]
  },
  {
   "cell_type": "code",
   "execution_count": 2,
   "metadata": {},
   "outputs": [
    {
     "name": "stdout",
     "output_type": "stream",
     "text": [
      "len raw datasets 150\n"
     ]
    }
   ],
   "source": [
    "# load dataset\n",
    "iris = load_iris()\n",
    "\n",
    "X_raw = iris['data']\n",
    "y_raw = iris['target']\n",
    "print(f'len raw datasets {X_raw.shape[0]}')"
   ]
  },
  {
   "cell_type": "code",
   "execution_count": 3,
   "metadata": {},
   "outputs": [
    {
     "name": "stdout",
     "output_type": "stream",
     "text": [
      "Initial dataset, len:5\n"
     ]
    }
   ],
   "source": [
    "# split dataset\n",
    "n_labeled_examples = X_raw.shape[0]\n",
    "training_indices = np.random.randint(low=0, high=n_labeled_examples + 1, size=5)\n",
    "\n",
    "X_train = X_raw[training_indices]\n",
    "y_train = y_raw[training_indices]\n",
    "\n",
    "# Isolate the non-training examples we'll be querying.\n",
    "X_pool = np.delete(X_raw, training_indices, axis=0)\n",
    "y_pool = np.delete(y_raw, training_indices, axis=0)\n",
    "\n",
    "print(f'Initial dataset, len:{X_train.shape[0]}')"
   ]
  },
  {
   "cell_type": "code",
   "execution_count": 4,
   "metadata": {},
   "outputs": [],
   "source": [
    "def loop(learner, X_pool, y_pool, performance_history, n_iteration=10):\n",
    "    \"\"\"\n",
    "    Args:\n",
    "        learner: object modAL.\n",
    "        X_pool: features dataset.\n",
    "        y_pool: features labels.\n",
    "        performance_history: list of metrics.\n",
    "    \"\"\"\n",
    "    for index in range(n_iteration):\n",
    "        query_index, query_instance = learner.query(X_pool)\n",
    "    \n",
    "        # Teach our ActiveLearner model the record it has requested.\n",
    "        X, y = X_pool[query_index].reshape(1, -1), y_pool[query_index].reshape(1, )\n",
    "        learner.teach(X=X, y=y)\n",
    "\n",
    "        # Remove the queried instance from the unlabeled pool.\n",
    "        X_pool, y_pool = np.delete(X_pool, query_index, axis=0), np.delete(y_pool, query_index)\n",
    "\n",
    "        # Calculate and report our model's accuracy.\n",
    "        model_accuracy = learner.score(X_raw, y_raw)\n",
    "        print('Accuracy after query {n}: {acc:0.4f}'.format(n=index + 1, acc=model_accuracy))\n",
    "\n",
    "        # Save our model's performance for plotting.\n",
    "        performance_history.append(model_accuracy)\n",
    "        \n",
    "    return learner, performance_history"
   ]
  },
  {
   "cell_type": "code",
   "execution_count": 5,
   "metadata": {},
   "outputs": [
    {
     "name": "stdout",
     "output_type": "stream",
     "text": [
      "Initial metrics 0.88\n"
     ]
    }
   ],
   "source": [
    "# ModAL classifier\n",
    "learner = ActiveLearner(estimator=RandomForestClassifier(),\n",
    "                        query_strategy=uncertainty_sampling,\n",
    "                        X_training=X_train, y_training=y_train)\n",
    "# initial metrics\n",
    "unqueried_score = learner.score(X_raw, y_raw)\n",
    "print(f'Initial metrics {unqueried_score}')"
   ]
  },
  {
   "cell_type": "code",
   "execution_count": 6,
   "metadata": {},
   "outputs": [
    {
     "name": "stdout",
     "output_type": "stream",
     "text": [
      "Accuracy after query 1: 0.9067\n",
      "Accuracy after query 2: 0.9067\n",
      "Accuracy after query 3: 0.9267\n",
      "Accuracy after query 4: 0.9600\n",
      "Accuracy after query 5: 0.9800\n",
      "Accuracy after query 6: 0.9400\n",
      "Accuracy after query 7: 0.9467\n",
      "Accuracy after query 8: 0.9067\n",
      "Accuracy after query 9: 0.9133\n",
      "Accuracy after query 10: 0.9067\n"
     ]
    }
   ],
   "source": [
    "clf, list_history = loop(learner, X_pool, y_pool, performance_history=[unqueried_score])"
   ]
  },
  {
   "cell_type": "code",
   "execution_count": 7,
   "metadata": {},
   "outputs": [],
   "source": [
    "def random_sampling(classifier, X_pool):\n",
    "    query_idx = np.random.choice(range(X_pool.shape[0]))\n",
    "    return query_idx, X_pool[query_idx]"
   ]
  },
  {
   "cell_type": "code",
   "execution_count": 8,
   "metadata": {},
   "outputs": [],
   "source": [
    "learner_random = ActiveLearner(estimator=RandomForestClassifier(),\n",
    "                               query_strategy=random_sampling,\n",
    "                               X_training=X_train, y_training=y_train)"
   ]
  },
  {
   "cell_type": "code",
   "execution_count": 9,
   "metadata": {},
   "outputs": [
    {
     "name": "stdout",
     "output_type": "stream",
     "text": [
      "Initial metrics 0.88\n"
     ]
    }
   ],
   "source": [
    "# initial metrics\n",
    "unqueried_score = learner_random.score(X_raw, y_raw)\n",
    "print(f'Initial metrics {unqueried_score}')"
   ]
  },
  {
   "cell_type": "code",
   "execution_count": 10,
   "metadata": {},
   "outputs": [
    {
     "name": "stdout",
     "output_type": "stream",
     "text": [
      "Accuracy after query 1: 0.8533\n",
      "Accuracy after query 2: 0.8933\n",
      "Accuracy after query 3: 0.8867\n",
      "Accuracy after query 4: 0.9067\n",
      "Accuracy after query 5: 0.9600\n",
      "Accuracy after query 6: 0.9467\n",
      "Accuracy after query 7: 0.9400\n",
      "Accuracy after query 8: 0.9467\n",
      "Accuracy after query 9: 0.9467\n",
      "Accuracy after query 10: 0.9400\n"
     ]
    }
   ],
   "source": [
    "clf, list_history_random = loop(learner_random, X_pool, y_pool, performance_history=[unqueried_score])"
   ]
  },
  {
   "cell_type": "code",
   "execution_count": 14,
   "metadata": {},
   "outputs": [
    {
     "data": {
      "image/png": "[encoded data removed]",
      "text/plain": [
       "<Figure size 432x288 with 1 Axes>"
      ]
     },
     "metadata": {
      "needs_background": "light"
     },
     "output_type": "display_data"
    }
   ],
   "source": [
    "x1 = np.linspace(0, 1, 11)\n",
    "x2 = np.linspace(0, 1, 11)\n",
    "plt.plot(x1, list_history)\n",
    "plt.plot(x2, list_history_random)\n",
    "plt.title('AL stretegie vs Random strategie.')\n",
    "plt.show()"
   ]
  }
 ],
 "metadata": {
  "kernelspec": {
   "display_name": "Python 3",
   "language": "python",
   "name": "python3"
  },
  "language_info": {
   "codemirror_mode": {
    "name": "ipython",
    "version": 3
   },
   "file_extension": ".py",
   "mimetype": "text/x-python",
   "name": "python",
   "nbconvert_exporter": "python",
   "pygments_lexer": "ipython3",
   "version": "3.7.2"
  }
 },
 "nbformat": 4,
 "nbformat_minor": 4
}
